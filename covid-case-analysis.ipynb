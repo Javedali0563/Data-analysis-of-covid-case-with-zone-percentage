{
 "cells": [
  {
   "cell_type": "code",
   "execution_count": 1,
   "metadata": {},
   "outputs": [],
   "source": [
    "import pandas as pd\n",
    "from matplotlib import pyplot as plt"
   ]
  },
  {
   "cell_type": "code",
   "execution_count": 2,
   "metadata": {},
   "outputs": [],
   "source": [
    "%matplotlib inline"
   ]
  },
  {
   "cell_type": "code",
   "execution_count": 3,
   "metadata": {},
   "outputs": [],
   "source": [
    "df = pd.read_csv('data/India-District-Zones.csv')"
   ]
  },
  {
   "cell_type": "code",
   "execution_count": 4,
   "metadata": {},
   "outputs": [
    {
     "data": {
      "text/html": [
       "<div>\n",
       "<style scoped>\n",
       "    .dataframe tbody tr th:only-of-type {\n",
       "        vertical-align: middle;\n",
       "    }\n",
       "\n",
       "    .dataframe tbody tr th {\n",
       "        vertical-align: top;\n",
       "    }\n",
       "\n",
       "    .dataframe thead th {\n",
       "        text-align: right;\n",
       "    }\n",
       "</style>\n",
       "<table border=\"1\" class=\"dataframe\">\n",
       "  <thead>\n",
       "    <tr style=\"text-align: right;\">\n",
       "      <th></th>\n",
       "      <th>District</th>\n",
       "      <th>State</th>\n",
       "      <th>Zone</th>\n",
       "    </tr>\n",
       "  </thead>\n",
       "  <tbody>\n",
       "    <tr>\n",
       "      <th>0</th>\n",
       "      <td>South Andamans</td>\n",
       "      <td>Andaman And Nicobar Islands</td>\n",
       "      <td>Red Zone</td>\n",
       "    </tr>\n",
       "    <tr>\n",
       "      <th>1</th>\n",
       "      <td>Nicobars</td>\n",
       "      <td>Andaman And Nicobar Islands</td>\n",
       "      <td>Green Zone</td>\n",
       "    </tr>\n",
       "    <tr>\n",
       "      <th>2</th>\n",
       "      <td>North And Middle Andaman</td>\n",
       "      <td>Andaman And Nicobar Islands</td>\n",
       "      <td>Green Zone</td>\n",
       "    </tr>\n",
       "    <tr>\n",
       "      <th>3</th>\n",
       "      <td>Kurnool</td>\n",
       "      <td>Andhra Pradesh</td>\n",
       "      <td>Red Zone</td>\n",
       "    </tr>\n",
       "    <tr>\n",
       "      <th>4</th>\n",
       "      <td>Guntur</td>\n",
       "      <td>Andhra Pradesh</td>\n",
       "      <td>Red Zone</td>\n",
       "    </tr>\n",
       "    <tr>\n",
       "      <th>...</th>\n",
       "      <td>...</td>\n",
       "      <td>...</td>\n",
       "      <td>...</td>\n",
       "    </tr>\n",
       "    <tr>\n",
       "      <th>728</th>\n",
       "      <td>Coochbehar</td>\n",
       "      <td>West Bengal</td>\n",
       "      <td>Green Zone</td>\n",
       "    </tr>\n",
       "    <tr>\n",
       "      <th>729</th>\n",
       "      <td>Dinajpur Dakshin</td>\n",
       "      <td>West Bengal</td>\n",
       "      <td>Green Zone</td>\n",
       "    </tr>\n",
       "    <tr>\n",
       "      <th>730</th>\n",
       "      <td>Purulia</td>\n",
       "      <td>West Bengal</td>\n",
       "      <td>Green Zone</td>\n",
       "    </tr>\n",
       "    <tr>\n",
       "      <th>731</th>\n",
       "      <td>Alipurduar</td>\n",
       "      <td>West Bengal</td>\n",
       "      <td>Green Zone</td>\n",
       "    </tr>\n",
       "    <tr>\n",
       "      <th>732</th>\n",
       "      <td>Jhargram</td>\n",
       "      <td>West Bengal</td>\n",
       "      <td>Green Zone</td>\n",
       "    </tr>\n",
       "  </tbody>\n",
       "</table>\n",
       "<p>733 rows × 3 columns</p>\n",
       "</div>"
      ],
      "text/plain": [
       "                     District                        State        Zone\n",
       "0              South Andamans  Andaman And Nicobar Islands    Red Zone\n",
       "1                    Nicobars  Andaman And Nicobar Islands  Green Zone\n",
       "2    North And Middle Andaman  Andaman And Nicobar Islands  Green Zone\n",
       "3                     Kurnool               Andhra Pradesh    Red Zone\n",
       "4                      Guntur               Andhra Pradesh    Red Zone\n",
       "..                        ...                          ...         ...\n",
       "728                Coochbehar                  West Bengal  Green Zone\n",
       "729          Dinajpur Dakshin                  West Bengal  Green Zone\n",
       "730                   Purulia                  West Bengal  Green Zone\n",
       "731                Alipurduar                  West Bengal  Green Zone\n",
       "732                  Jhargram                  West Bengal  Green Zone\n",
       "\n",
       "[733 rows x 3 columns]"
      ]
     },
     "execution_count": 4,
     "metadata": {},
     "output_type": "execute_result"
    }
   ],
   "source": [
    "df"
   ]
  },
  {
   "cell_type": "markdown",
   "metadata": {},
   "source": [
    "# Percentage of Green, Red and Orange zone in India"
   ]
  },
  {
   "cell_type": "code",
   "execution_count": 109,
   "metadata": {},
   "outputs": [
    {
     "data": {
      "text/plain": [
       "<matplotlib.axes._subplots.AxesSubplot at 0x2c2853671c0>"
      ]
     },
     "execution_count": 109,
     "metadata": {},
     "output_type": "execute_result"
    },
    {
     "data": {
      "image/png": "[encoded data removed]",
      "text/plain": [
       "<Figure size 432x288 with 1 Axes>"
      ]
     },
     "metadata": {
      "needs_background": "light"
     },
     "output_type": "display_data"
    }
   ],
   "source": [
    "color = [\"#008000\",\"#FFA500\",\"#FF0000\"]\n",
    "df['Zone'].value_counts(normalize=True).plot(kind='bar',color=color)"
   ]
  },
  {
   "cell_type": "code",
   "execution_count": 5,
   "metadata": {},
   "outputs": [],
   "source": [
    "state_grp = df.groupby(['State'])"
   ]
  },
  {
   "cell_type": "code",
   "execution_count": 7,
   "metadata": {},
   "outputs": [
    {
     "data": {
      "text/plain": [
       "Red Zone       10\n",
       "Green Zone      8\n",
       "Orange Zone     5\n",
       "Name: Zone, dtype: int64"
      ]
     },
     "execution_count": 7,
     "metadata": {},
     "output_type": "execute_result"
    }
   ],
   "source": [
    "state_grp.get_group('West Bengal')['Zone'].value_counts()"
   ]
  },
  {
   "cell_type": "code",
   "execution_count": 8,
   "metadata": {},
   "outputs": [
    {
     "name": "stdout",
     "output_type": "stream",
     "text": [
      "['Andaman And Nicobar Islands', 'Andhra Pradesh', 'Arunachal Pradesh', 'Assam', 'Bihar', 'Chandigarh', 'Chhattisgarh', 'Dadra And Nagar Haveli', 'Daman And Diu', 'Delhi', 'Goa', 'Gujarat', 'Haryana', 'Himachal Pradesh', 'Jammu And Kashmir', 'Jharkhand', 'Karnataka', 'Kerala', 'Ladakh', 'Lakshadweep', 'Madhya Pradesh', 'Maharashtra', 'Manipur', 'Meghalaya', 'Mizoram', 'Nagaland', 'Orrisa', 'Puducherry', 'Punjab', 'Rajasthan', 'Sikkim', 'Tamil Nadu', 'Telangana', 'Tripura', 'Uttar Pradesh', 'Uttarakhand', 'West Bengal']\n"
     ]
    }
   ],
   "source": [
    "state1 = []\n",
    "for state in state_grp:\n",
    "    state1.append(state[0])\n",
    "print(state1)"
   ]
  },
  {
   "cell_type": "code",
   "execution_count": 93,
   "metadata": {},
   "outputs": [
    {
     "name": "stdout",
     "output_type": "stream",
     "text": [
      "{'Andaman And Nicobar Islands': {'Green Zone': 2, 'Red Zone': 1}, 'Andhra Pradesh': {'Green Zone': 1, 'Orange Zone': 7, 'Red Zone': 5}, 'Arunachal Pradesh': {'Green Zone': 25}, 'Assam': {'Green Zone': 30, 'Orange Zone': 3}, 'Bihar': {'Green Zone': 13, 'Orange Zone': 20, 'Red Zone': 5}, 'Chandigarh': {'Red Zone': 1}, 'Chhattisgarh': {'Green Zone': 25, 'Orange Zone': 1, 'Red Zone': 1}, 'Dadra And Nagar Haveli': {'Green Zone': 1}, 'Daman And Diu': {'Green Zone': 2}, 'Delhi': {'Red Zone': 11}, 'Goa': {'Green Zone': 2}, 'Gujarat': {'Green Zone': 5, 'Orange Zone': 19, 'Red Zone': 9}, 'Haryana': {'Green Zone': 2, 'Orange Zone': 18, 'Red Zone': 2}, 'Himachal Pradesh': {'Green Zone': 6, 'Orange Zone': 6}, 'Jammu And Kashmir': {'Green Zone': 4, 'Orange Zone': 12, 'Red Zone': 4}, 'Jharkhand': {'Green Zone': 14, 'Orange Zone': 9, 'Red Zone': 1}, 'Karnataka': {'Green Zone': 14, 'Orange Zone': 13, 'Red Zone': 3}, 'Kerala': {'Green Zone': 2, 'Orange Zone': 10, 'Red Zone': 2}, 'Ladakh': {'Orange Zone': 2}, 'Lakshadweep': {'Green Zone': 1}, 'Madhya Pradesh': {'Green Zone': 24, 'Orange Zone': 19, 'Red Zone': 9}, 'Maharashtra': {'Green Zone': 6, 'Orange Zone': 16, 'Red Zone': 14}, 'Manipur': {'Green Zone': 16}, 'Meghalaya': {'Green Zone': 10, 'Orange Zone': 1}, 'Mizoram': {'Green Zone': 11}, 'Nagaland': {'Green Zone': 11}, 'Orrisa': {'Green Zone': 21, 'Orange Zone': 6, 'Red Zone': 3}, 'Puducherry': {'Green Zone': 3, 'Orange Zone': 1}, 'Punjab': {'Green Zone': 4, 'Orange Zone': 15, 'Red Zone': 3}, 'Rajasthan': {'Green Zone': 6, 'Orange Zone': 19, 'Red Zone': 8}, 'Sikkim': {'Green Zone': 4}, 'Tamil Nadu': {'Green Zone': 1, 'Orange Zone': 24, 'Red Zone': 12}, 'Telangana': {'Green Zone': 9, 'Orange Zone': 18, 'Red Zone': 6}, 'Tripura': {'Green Zone': 6, 'Orange Zone': 2}, 'Uttar Pradesh': {'Green Zone': 20, 'Orange Zone': 36, 'Red Zone': 19}, 'Uttarakhand': {'Green Zone': 10, 'Orange Zone': 2, 'Red Zone': 1}, 'West Bengal': {'Green Zone': 8, 'Orange Zone': 5, 'Red Zone': 10}}\n"
     ]
    }
   ],
   "source": [
    "sta = []\n",
    "for state in state1:\n",
    "    add=dict(state_grp.get_group(state)['Zone'].value_counts())\n",
    "    sorted_dict = dict(sorted(add.items()))\n",
    "    sta.append(sorted_dict)\n",
    "    country = dict(zip(state1,sta))\n",
    "    \n",
    "print(country)\n",
    "    \n",
    "\n",
    "        "
   ]
  },
  {
   "cell_type": "code",
   "execution_count": 105,
   "metadata": {},
   "outputs": [
    {
     "name": "stdout",
     "output_type": "stream",
     "text": [
      "[2, 1, 25, 30, 13, 25, 1, 2, 2, 5, 2, 6, 4, 14, 14, 2, 1, 24, 6, 16, 10, 11, 11, 21, 3, 4, 6, 4, 1, 9, 6, 20, 10, 8]\n"
     ]
    }
   ],
   "source": [
    "red = []\n",
    "green = []\n",
    "orange = []\n",
    "zones = ['Green Zone','Orange Zone','Red Zone']\n",
    "for state in country:\n",
    "    for zone in country[state]:\n",
    "        i = 0\n",
    "        r=1\n",
    "        while(r<4)\n",
    "            if zone == 'Green Zone':\n",
    "                green.append(country[state]['Green Zone'])\n",
    "            elif zone == 'Orange Zone':\n",
    "                orange.append(country[state]['Orange Zone'])\n",
    "            elif zone == 'Red Zone':\n",
    "                red.append(country[state]['Red Zone'])\n",
    "    if len(red)<len(green) and len(red)<len(orange):\n",
    "        red.insert(i,0)\n",
    "    elif len(green) < len(red) and len(green) < len (orange):\n",
    "        green.insert(i,0)\n",
    "    elif len(orange)<len(red) and len(orange)<len(green):\n",
    "        orange.insert(i,0)\n",
    "    i+=1\n",
    "print(green)\n"
   ]
  },
  {
   "cell_type": "code",
   "execution_count": 108,
   "metadata": {},
   "outputs": [
    {
     "name": "stdout",
     "output_type": "stream",
     "text": [
      "{'Green Zone': 2, 'Red Zone': 1}\n",
      "{'Green Zone': 1, 'Orange Zone': 7, 'Red Zone': 5}\n",
      "{'Green Zone': 25}\n",
      "{'Green Zone': 30, 'Orange Zone': 3}\n",
      "{'Green Zone': 13, 'Orange Zone': 20, 'Red Zone': 5}\n",
      "{'Red Zone': 1}\n",
      "{'Green Zone': 25, 'Orange Zone': 1, 'Red Zone': 1}\n",
      "{'Green Zone': 1}\n",
      "{'Green Zone': 2}\n",
      "{'Red Zone': 11}\n",
      "{'Green Zone': 2}\n",
      "{'Green Zone': 5, 'Orange Zone': 19, 'Red Zone': 9}\n",
      "{'Green Zone': 2, 'Orange Zone': 18, 'Red Zone': 2}\n",
      "{'Green Zone': 6, 'Orange Zone': 6}\n",
      "{'Green Zone': 4, 'Orange Zone': 12, 'Red Zone': 4}\n",
      "{'Green Zone': 14, 'Orange Zone': 9, 'Red Zone': 1}\n",
      "{'Green Zone': 14, 'Orange Zone': 13, 'Red Zone': 3}\n",
      "{'Green Zone': 2, 'Orange Zone': 10, 'Red Zone': 2}\n",
      "{'Orange Zone': 2}\n",
      "{'Green Zone': 1}\n",
      "{'Green Zone': 24, 'Orange Zone': 19, 'Red Zone': 9}\n",
      "{'Green Zone': 6, 'Orange Zone': 16, 'Red Zone': 14}\n",
      "{'Green Zone': 16}\n",
      "{'Green Zone': 10, 'Orange Zone': 1}\n",
      "{'Green Zone': 11}\n",
      "{'Green Zone': 11}\n",
      "{'Green Zone': 21, 'Orange Zone': 6, 'Red Zone': 3}\n",
      "{'Green Zone': 3, 'Orange Zone': 1}\n",
      "{'Green Zone': 4, 'Orange Zone': 15, 'Red Zone': 3}\n",
      "{'Green Zone': 6, 'Orange Zone': 19, 'Red Zone': 8}\n",
      "{'Green Zone': 4}\n",
      "{'Green Zone': 1, 'Orange Zone': 24, 'Red Zone': 12}\n",
      "{'Green Zone': 9, 'Orange Zone': 18, 'Red Zone': 6}\n",
      "{'Green Zone': 6, 'Orange Zone': 2}\n",
      "{'Green Zone': 20, 'Orange Zone': 36, 'Red Zone': 19}\n",
      "{'Green Zone': 10, 'Orange Zone': 2, 'Red Zone': 1}\n",
      "{'Green Zone': 8, 'Orange Zone': 5, 'Red Zone': 10}\n"
     ]
    }
   ],
   "source": [
    "for state in country:\n",
    "    print(country[state])\n",
    "        "
   ]
  },
  {
   "cell_type": "code",
   "execution_count": null,
   "metadata": {},
   "outputs": [],
   "source": []
  }
 ],
 "metadata": {
  "kernelspec": {
   "display_name": "Python 3",
   "language": "python",
   "name": "python3"
  },
  "language_info": {
   "codemirror_mode": {
    "name": "ipython",
    "version": 3
   },
   "file_extension": ".py",
   "mimetype": "text/x-python",
   "name": "python",
   "nbconvert_exporter": "python",
   "pygments_lexer": "ipython3",
   "version": "3.8.0"
  }
 },
 "nbformat": 4,
 "nbformat_minor": 4
}
